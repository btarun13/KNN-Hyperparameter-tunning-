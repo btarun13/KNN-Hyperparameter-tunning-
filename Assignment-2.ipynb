{
 "cells": [
  {
   "cell_type": "markdown",
   "metadata": {},
   "source": [
    "### Assignment-2 (can't take 10,000 range as sample data is only till 1300)"
   ]
  },
  {
   "cell_type": "code",
   "execution_count": 1,
   "metadata": {},
   "outputs": [],
   "source": [
    "import numpy as np\n",
    "import matplotlib.pyplot as plt\n",
    "%matplotlib inline"
   ]
  },
  {
   "cell_type": "code",
   "execution_count": 2,
   "metadata": {},
   "outputs": [],
   "source": [
    "from sklearn.datasets import load_digits\n",
    "dataset = load_digits()"
   ]
  },
  {
   "cell_type": "code",
   "execution_count": 3,
   "metadata": {},
   "outputs": [
    {
     "name": "stdout",
     "output_type": "stream",
     "text": [
      "Keys of dataset: dict_keys(['data', 'target', 'target_names', 'images', 'DESCR'])\n"
     ]
    }
   ],
   "source": [
    "print(\"Keys of dataset: {}\".format(dataset.keys()))"
   ]
  },
  {
   "cell_type": "code",
   "execution_count": 4,
   "metadata": {},
   "outputs": [],
   "source": [
    "#print(iris_dataset['DESCR'])"
   ]
  },
  {
   "cell_type": "code",
   "execution_count": 5,
   "metadata": {},
   "outputs": [
    {
     "name": "stdout",
     "output_type": "stream",
     "text": [
      "[0 1 2 3 4 5 6 7 8 9]\n"
     ]
    }
   ],
   "source": [
    "print(dataset['target_names'])"
   ]
  },
  {
   "cell_type": "code",
   "execution_count": 6,
   "metadata": {},
   "outputs": [
    {
     "name": "stdout",
     "output_type": "stream",
     "text": [
      "[0 1 2 3 4 5 6 7 8 9]\n",
      "<class 'numpy.ndarray'>\n"
     ]
    }
   ],
   "source": [
    "print(dataset['target_names'])\n",
    "print(type(dataset['data']))"
   ]
  },
  {
   "cell_type": "code",
   "execution_count": 7,
   "metadata": {},
   "outputs": [],
   "source": [
    "from sklearn.model_selection import train_test_split\n",
    "X_train, X_test, y_train, y_test = train_test_split(dataset['data'], dataset['target'], \n",
    "                                                    random_state=1)"
   ]
  },
  {
   "cell_type": "code",
   "execution_count": 8,
   "metadata": {},
   "outputs": [
    {
     "data": {
      "text/plain": [
       "KNeighborsClassifier(algorithm='auto', leaf_size=30, metric='minkowski',\n",
       "                     metric_params=None, n_jobs=None, n_neighbors=5, p=2,\n",
       "                     weights='uniform')"
      ]
     },
     "execution_count": 8,
     "metadata": {},
     "output_type": "execute_result"
    }
   ],
   "source": [
    "from sklearn.neighbors import KNeighborsClassifier\n",
    "knn = KNeighborsClassifier(n_neighbors=5)\n",
    "knn.fit(X_train, y_train)"
   ]
  },
  {
   "cell_type": "code",
   "execution_count": 9,
   "metadata": {},
   "outputs": [],
   "source": [
    "from sklearn.metrics import accuracy_score "
   ]
  },
  {
   "cell_type": "code",
   "execution_count": 10,
   "metadata": {},
   "outputs": [
    {
     "name": "stdout",
     "output_type": "stream",
     "text": [
      "Test set predictions:\n",
      " 0.9933333333333333\n"
     ]
    }
   ],
   "source": [
    "y_pred = knn.predict(X_test)\n",
    "print(\"Test set predictions:\\n {}\".format(accuracy_score(y_test,y_pred)))"
   ]
  },
  {
   "cell_type": "markdown",
   "metadata": {},
   "source": [
    "### Linear search for tuning "
   ]
  },
  {
   "cell_type": "code",
   "execution_count": 11,
   "metadata": {},
   "outputs": [
    {
     "name": "stdout",
     "output_type": "stream",
     "text": [
      "highest accuracy :0.9955555555555555  where k:4\n",
      "Time:  17.490559268000084\n"
     ]
    },
    {
     "data": {
      "image/png": "[encoded data removed]",
      "text/plain": [
       "<Figure size 432x288 with 1 Axes>"
      ]
     },
     "metadata": {
      "needs_background": "light"
     },
     "output_type": "display_data"
    }
   ],
   "source": [
    "import timeit\n",
    "\n",
    "start = timeit.default_timer()\n",
    "\n",
    "scores= []\n",
    "k =np.arange(1,101)\n",
    "for i in k:\n",
    "    knn = KNeighborsClassifier(n_neighbors=i)\n",
    "    knn.fit(X_train, y_train)\n",
    "    y_pred = knn.predict(X_test)\n",
    "    #print(\"Test set predictions:\\n {}\".format(accuracy_score(y_test,y_pred)))\n",
    "    scores.append(accuracy_score(y_test,y_pred))\n",
    "plt.plot(k,scores)\n",
    "plt.grid()\n",
    "terry = np.asarray(scores)\n",
    "print(\"highest accuracy :{}\".format(terry.max()),\n",
    "      \" where k:{}\".format(terry.argmax()+1,))\n",
    "\n",
    "stop = timeit.default_timer()\n",
    "\n",
    "print('Time: ', stop - start)  "
   ]
  },
  {
   "cell_type": "markdown",
   "metadata": {},
   "source": [
    "## Function for Calculating KNN"
   ]
  },
  {
   "cell_type": "code",
   "execution_count": 12,
   "metadata": {},
   "outputs": [],
   "source": [
    "def knn_value(w):\n",
    "    knn = KNeighborsClassifier(n_neighbors=w)\n",
    "    knn.fit(X_train, y_train)\n",
    "    y_pred = knn.predict(X_test)\n",
    "    #print(\"Test set predictions:\\n {}\".format(accuracy_score(y_test,y_pred)))\n",
    "    return accuracy_score(y_test,y_pred)"
   ]
  },
  {
   "cell_type": "code",
   "execution_count": 13,
   "metadata": {},
   "outputs": [
    {
     "data": {
      "text/plain": [
       "4"
      ]
     },
     "execution_count": 13,
     "metadata": {},
     "output_type": "execute_result"
    }
   ],
   "source": [
    "import math\n",
    "math.floor(3.5)\n",
    "math.ceil(3.5)"
   ]
  },
  {
   "cell_type": "markdown",
   "metadata": {},
   "source": [
    "## Function for Binary search"
   ]
  },
  {
   "cell_type": "code",
   "execution_count": 14,
   "metadata": {},
   "outputs": [],
   "source": [
    "\n",
    "def binsearch(a,b):\n",
    "    m = (a+b)/2\n",
    "    m = math.floor(m)\n",
    "    knn = KNeighborsClassifier(n_neighbors=m)\n",
    "    knn.fit(X_train, y_train)\n",
    "    y_pred = knn.predict(X_test)\n",
    "    print(accuracy_score(y_test,y_pred))\n",
    "    \n",
    "    if len(range(a,b+1)) > 3 : \n",
    "        if knn_value(m)+knn_value(a) >= knn_value(m+1) + knn_value(b):\n",
    "            print(a,m)\n",
    "            #print(b)\n",
    "            binsearch(a,m)\n",
    "        else : \n",
    "            print(m,b)\n",
    "            binsearch(m,b)\n",
    "    else:\n",
    "        print(\"max range :{}\".format(a),\"max value:{}\".format(knn_value(a)))\n",
    "            \n",
    "    \n",
    "    \n",
    "    "
   ]
  },
  {
   "cell_type": "markdown",
   "metadata": {},
   "source": [
    "## TEST for Binary Search function"
   ]
  },
  {
   "cell_type": "code",
   "execution_count": 15,
   "metadata": {},
   "outputs": [
    {
     "name": "stdout",
     "output_type": "stream",
     "text": [
      "0.7555555555555555\n",
      "1 500\n",
      "0.8666666666666667\n",
      "1 250\n",
      "0.8933333333333333\n",
      "1 125\n",
      "0.9333333333333333\n",
      "1 63\n",
      "0.9688888888888889\n",
      "1 32\n",
      "0.9866666666666667\n",
      "1 16\n",
      "0.9933333333333333\n",
      "1 8\n",
      "0.9955555555555555\n",
      "4 8\n",
      "0.9933333333333333\n",
      "4 6\n",
      "0.9933333333333333\n",
      "max range :4 max value:0.9955555555555555\n",
      "Time:  8.250109769999995\n"
     ]
    }
   ],
   "source": [
    "start = timeit.default_timer()\n",
    "binsearch(1,1000)\n",
    "stop = timeit.default_timer()\n",
    "print('Time: ', stop - start)  "
   ]
  },
  {
   "cell_type": "markdown",
   "metadata": {},
   "source": [
    "## Linear search took 16 secs whereas Binary took 7.9"
   ]
  },
  {
   "cell_type": "markdown",
   "metadata": {},
   "source": [
    "## Hybrid Search"
   ]
  },
  {
   "cell_type": "code",
   "execution_count": 16,
   "metadata": {},
   "outputs": [],
   "source": [
    "def HybridSearch(a,b):\n",
    "    alpha = [10**k for k in range(0,4)]\n",
    "    alpha = np.asarray(alpha)\n",
    "    #print(alpha[1])\n",
    "    range_detail = [(i,knn_value(i)) for i in alpha]\n",
    "    range_sorted = sorted(range_detail,key = lambda r :r[1])\n",
    "    range_value = [i for i,j in range_sorted[-2:]]\n",
    "   \n",
    "    binsearch(range_value[0],range_value[1]) "
   ]
  },
  {
   "cell_type": "markdown",
   "metadata": {},
   "source": [
    "## TEST: Hybrid Search(Took 1.18 secs)"
   ]
  },
  {
   "cell_type": "code",
   "execution_count": 17,
   "metadata": {
    "scrolled": true
   },
   "outputs": [
    {
     "name": "stdout",
     "output_type": "stream",
     "text": [
      "0.9933333333333333\n",
      "5 10\n",
      "0.9933333333333333\n",
      "5 7\n",
      "0.9933333333333333\n",
      "max range :5 max value:0.9933333333333333\n",
      "Time:  2.5133516670000517\n"
     ]
    }
   ],
   "source": [
    "start = timeit.default_timer()\n",
    "HybridSearch(1,1000)\n",
    "stop = timeit.default_timer()\n",
    "print('Time: ', stop - start) "
   ]
  },
  {
   "cell_type": "markdown",
   "metadata": {},
   "source": [
    "## Random Search"
   ]
  },
  {
   "cell_type": "code",
   "execution_count": 158,
   "metadata": {},
   "outputs": [],
   "source": [
    "np.random.seed(10)\n",
    "def RandSearch(a,b,c):\n",
    "    Test_values = list(np.random.randint(a,b,c))\n",
    "    \n",
    "    j = list(map(lambda v:(v,knn_value(v)),Test_values))\n",
    "    sort_scores = sorted(j,key = lambda r:r[1])\n",
    "    #print(sort_scores[-1])\n",
    "    x,y = sort_scores[-1]\n",
    "    #print(x)\n",
    "    #print(\"accuracy obtained:{}\".format(y),\"at K =:{}\".format(x))\n",
    "    return y"
   ]
  },
  {
   "cell_type": "code",
   "execution_count": 189,
   "metadata": {},
   "outputs": [
    {
     "name": "stdout",
     "output_type": "stream",
     "text": [
      "Time:  0.15663897600097698\n",
      "Time:  1.0963002890002826\n",
      "Time:  1.9812327009985893\n",
      "Time:  5.468700799001454\n",
      "Time:  7.387742630000503\n",
      "Time:  9.709560745999624\n",
      "Time:  12.10132064299978\n",
      "Time:  13.641312248000759\n",
      "Time:  15.94536624399916\n",
      "Time:  17.522686984000757\n",
      "Time:  20.21194550400105\n"
     ]
    }
   ],
   "source": [
    "Numb_iter = [1,10,20,30,40,50,60,70,80,90,100]\n",
    "time = []\n",
    "score_graph =[]\n",
    "Scores =[]\n",
    "#Scores = [RandSearch(1,1000,j) for j in Numb_iter]\n",
    "for i in Numb_iter:\n",
    "    start = timeit.default_timer()\n",
    "    #Scores = [(j,RandSearch(1,1000,j)) for j in Numb_iter]\n",
    "    Scores.append(RandSearch(1,1000,i))\n",
    "    stop = timeit.default_timer() \n",
    "    print('Time: ', stop - start) \n",
    "    score_graph.append(i)\n",
    "    w = stop - start\n",
    "    time.append(w)"
   ]
  },
  {
   "cell_type": "code",
   "execution_count": 186,
   "metadata": {},
   "outputs": [],
   "source": [
    "#sorted_score=sorted(Scores,key=lambda r: r[1])\n",
    "#score_graph = []\n",
    "#for k,j in sorted_score:\n",
    "  # score_graph.append(k)\n"
   ]
  },
  {
   "cell_type": "markdown",
   "metadata": {},
   "source": [
    "## The Graphs representing the Random search\n",
    "### Time increasing as Iterations does, whereas Accuracy Saturates after 50"
   ]
  },
  {
   "cell_type": "code",
   "execution_count": 199,
   "metadata": {},
   "outputs": [
    {
     "data": {
      "text/plain": [
       "Text(0.5, 0, 'No. of iterations')"
      ]
     },
     "execution_count": 199,
     "metadata": {},
     "output_type": "execute_result"
    },
    {
     "data": {
      "image/png": "[encoded data removed]",
      "text/plain": [
       "<Figure size 432x288 with 2 Axes>"
      ]
     },
     "metadata": {
      "needs_background": "light"
     },
     "output_type": "display_data"
    }
   ],
   "source": [
    "plt.subplot(1,3,1)\n",
    "plt.plot(time,score_graph)\n",
    "plt.xlabel(\"Time in seconds\")\n",
    "plt.ylabel(\"No. of iterations\")\n",
    "plt.subplot(1,3,3)\n",
    "plt.plot(score_graph,Scores)\n",
    "plt.ylabel(\"Accuracy\")\n",
    "plt.xlabel(\"No. of iterations\")"
   ]
  },
  {
   "cell_type": "code",
   "execution_count": null,
   "metadata": {},
   "outputs": [],
   "source": []
  }
 ],
 "metadata": {
  "kernelspec": {
   "display_name": "Python 3",
   "language": "python",
   "name": "python3"
  },
  "language_info": {
   "codemirror_mode": {
    "name": "ipython",
    "version": 3
   },
   "file_extension": ".py",
   "mimetype": "text/x-python",
   "name": "python",
   "nbconvert_exporter": "python",
   "pygments_lexer": "ipython3",
   "version": "3.6.6"
  }
 },
 "nbformat": 4,
 "nbformat_minor": 2
}
